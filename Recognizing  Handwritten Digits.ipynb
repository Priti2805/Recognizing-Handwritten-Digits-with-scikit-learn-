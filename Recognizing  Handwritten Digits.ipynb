{
 "cells": [
  {
   "cell_type": "markdown",
   "id": "fa0a614f",
   "metadata": {},
   "source": [
    "# Recognizing Handwritten Digits with scikit-learn"
   ]
  },
  {
   "cell_type": "markdown",
   "id": "e5b44341",
   "metadata": {},
   "source": [
    "## Load Dataset"
   ]
  },
  {
   "cell_type": "code",
   "execution_count": 1,
   "id": "39476964",
   "metadata": {},
   "outputs": [],
   "source": [
    "from sklearn import datasets\n",
    "digits = datasets.load_digits()"
   ]
  },
  {
   "cell_type": "markdown",
   "id": "d2869bdc",
   "metadata": {},
   "source": [
    "## Full description of the dataset"
   ]
  },
  {
   "cell_type": "code",
   "execution_count": 2,
   "id": "e575aa94",
   "metadata": {},
   "outputs": [
    {
     "name": "stdout",
     "output_type": "stream",
     "text": [
      ".. _digits_dataset:\n",
      "\n",
      "Optical recognition of handwritten digits dataset\n",
      "--------------------------------------------------\n",
      "\n",
      "**Data Set Characteristics:**\n",
      "\n",
      "    :Number of Instances: 1797\n",
      "    :Number of Attributes: 64\n",
      "    :Attribute Information: 8x8 image of integer pixels in the range 0..16.\n",
      "    :Missing Attribute Values: None\n",
      "    :Creator: E. Alpaydin (alpaydin '@' boun.edu.tr)\n",
      "    :Date: July; 1998\n",
      "\n",
      "This is a copy of the test set of the UCI ML hand-written digits datasets\n",
      "https://archive.ics.uci.edu/ml/datasets/Optical+Recognition+of+Handwritten+Digits\n",
      "\n",
      "The data set contains images of hand-written digits: 10 classes where\n",
      "each class refers to a digit.\n",
      "\n",
      "Preprocessing programs made available by NIST were used to extract\n",
      "normalized bitmaps of handwritten digits from a preprinted form. From a\n",
      "total of 43 people, 30 contributed to the training set and different 13\n",
      "to the test set. 32x32 bitmaps are divided into nonoverlapping blocks of\n",
      "4x4 and the number of on pixels are counted in each block. This generates\n",
      "an input matrix of 8x8 where each element is an integer in the range\n",
      "0..16. This reduces dimensionality and gives invariance to small\n",
      "distortions.\n",
      "\n",
      "For info on NIST preprocessing routines, see M. D. Garris, J. L. Blue, G.\n",
      "T. Candela, D. L. Dimmick, J. Geist, P. J. Grother, S. A. Janet, and C.\n",
      "L. Wilson, NIST Form-Based Handprint Recognition System, NISTIR 5469,\n",
      "1994.\n",
      "\n",
      ".. topic:: References\n",
      "\n",
      "  - C. Kaynak (1995) Methods of Combining Multiple Classifiers and Their\n",
      "    Applications to Handwritten Digit Recognition, MSc Thesis, Institute of\n",
      "    Graduate Studies in Science and Engineering, Bogazici University.\n",
      "  - E. Alpaydin, C. Kaynak (1998) Cascading Classifiers, Kybernetika.\n",
      "  - Ken Tang and Ponnuthurai N. Suganthan and Xi Yao and A. Kai Qin.\n",
      "    Linear dimensionalityreduction using relevance weighted LDA. School of\n",
      "    Electrical and Electronic Engineering Nanyang Technological University.\n",
      "    2005.\n",
      "  - Claudio Gentile. A New Approximate Maximal Margin Classification\n",
      "    Algorithm. NIPS. 2000.\n",
      "\n"
     ]
    }
   ],
   "source": [
    "print(digits.DESCR)"
   ]
  },
  {
   "cell_type": "markdown",
   "id": "4a83c38b",
   "metadata": {},
   "source": [
    "The numerical values represented by images, i.e., the targets, are contained in the digit.targets array."
   ]
  },
  {
   "cell_type": "code",
   "execution_count": 3,
   "id": "3feb49d1",
   "metadata": {},
   "outputs": [
    {
     "data": {
      "text/plain": [
       "array([0, 1, 2, ..., 8, 9, 8])"
      ]
     },
     "execution_count": 3,
     "metadata": {},
     "output_type": "execute_result"
    }
   ],
   "source": [
    "digits.target"
   ]
  },
  {
   "cell_type": "markdown",
   "id": "1272bb76",
   "metadata": {},
   "source": [
    "## Shape of the dataset"
   ]
  },
  {
   "cell_type": "code",
   "execution_count": 4,
   "id": "525abb7b",
   "metadata": {},
   "outputs": [
    {
     "data": {
      "text/plain": [
       "(1797, 64)"
      ]
     },
     "execution_count": 4,
     "metadata": {},
     "output_type": "execute_result"
    }
   ],
   "source": [
    "digits.data.shape"
   ]
  },
  {
   "cell_type": "markdown",
   "id": "edfb815e",
   "metadata": {},
   "source": [
    "## Images stored in the form of array"
   ]
  },
  {
   "cell_type": "markdown",
   "id": "5695b7e3",
   "metadata": {},
   "source": [
    "The images of the handwritten digits are contained in a digits,i.e.,images array.\n",
    "\n",
    "Each element of this array is an image that is represented by an 8x8 matrix of numerical values that correspond to a grayscale from white, with a value of 0, to black, with the value 15"
   ]
  },
  {
   "cell_type": "code",
   "execution_count": 5,
   "id": "08c2706e",
   "metadata": {},
   "outputs": [
    {
     "data": {
      "text/plain": [
       "array([[ 0.,  0.,  5., 13.,  9.,  1.,  0.,  0.],\n",
       "       [ 0.,  0., 13., 15., 10., 15.,  5.,  0.],\n",
       "       [ 0.,  3., 15.,  2.,  0., 11.,  8.,  0.],\n",
       "       [ 0.,  4., 12.,  0.,  0.,  8.,  8.,  0.],\n",
       "       [ 0.,  5.,  8.,  0.,  0.,  9.,  8.,  0.],\n",
       "       [ 0.,  4., 11.,  0.,  1., 12.,  7.,  0.],\n",
       "       [ 0.,  2., 14.,  5., 10., 12.,  0.,  0.],\n",
       "       [ 0.,  0.,  6., 13., 10.,  0.,  0.,  0.]])"
      ]
     },
     "execution_count": 5,
     "metadata": {},
     "output_type": "execute_result"
    }
   ],
   "source": [
    "digits.images[0]"
   ]
  },
  {
   "cell_type": "markdown",
   "id": "4e141601",
   "metadata": {},
   "source": [
    "The images of the handwritten digits are contained in a digits.images array"
   ]
  },
  {
   "cell_type": "markdown",
   "id": "cbdc6aa5",
   "metadata": {},
   "source": [
    "## Visualizing Digit Array"
   ]
  },
  {
   "cell_type": "code",
   "execution_count": 6,
   "id": "18bb88ad",
   "metadata": {},
   "outputs": [
    {
     "data": {
      "text/plain": [
       "<matplotlib.image.AxesImage at 0x20f93cb23a0>"
      ]
     },
     "execution_count": 6,
     "metadata": {},
     "output_type": "execute_result"
    },
    {
     "data": {
      "image/png": "[encoded data removed]",
      "text/plain": [
       "<Figure size 432x288 with 1 Axes>"
      ]
     },
     "metadata": {
      "needs_background": "light"
     },
     "output_type": "display_data"
    }
   ],
   "source": [
    "import matplotlib.pyplot as plt\n",
    "plt.imshow(digits.images[1])"
   ]
  },
  {
   "cell_type": "code",
   "execution_count": 7,
   "id": "a85a8ecd",
   "metadata": {},
   "outputs": [
    {
     "data": {
      "image/png": "[encoded data removed]",
      "text/plain": [
       "<Figure size 432x288 with 50 Axes>"
      ]
     },
     "metadata": {
      "needs_background": "light"
     },
     "output_type": "display_data"
    }
   ],
   "source": [
    "for i in range(50):\n",
    "    plt.subplot(5,10,i+1)\n",
    "    plt.imshow(digits.images[i,:].reshape(8,8))\n",
    "    plt.axis('off')"
   ]
  },
  {
   "cell_type": "markdown",
   "id": "867ce8a7",
   "metadata": {},
   "source": [
    "## Train Test Split"
   ]
  },
  {
   "cell_type": "markdown",
   "id": "ae2f727d",
   "metadata": {},
   "source": [
    "we found that shape of the dataset is  1,797 images. we can determine if that is true -"
   ]
  },
  {
   "cell_type": "code",
   "execution_count": 8,
   "id": "7c24c0e1",
   "metadata": {},
   "outputs": [
    {
     "data": {
      "text/plain": [
       "(1797, 64)"
      ]
     },
     "execution_count": 8,
     "metadata": {},
     "output_type": "execute_result"
    }
   ],
   "source": [
    "digits.data.shape # data containg x values"
   ]
  },
  {
   "cell_type": "code",
   "execution_count": 9,
   "id": "c9c5af20",
   "metadata": {},
   "outputs": [
    {
     "data": {
      "text/plain": [
       "(1797,)"
      ]
     },
     "execution_count": 9,
     "metadata": {},
     "output_type": "execute_result"
    }
   ],
   "source": [
    "digits.target.shape #data containing y values"
   ]
  },
  {
   "cell_type": "markdown",
   "id": "da17fcab",
   "metadata": {},
   "source": [
    "We will use the first 1791 digits for training our machine\n",
    "\n",
    "We will use the last 6 digits for testing i.e. as validation set, so below is a visualization of this set.\n",
    "\n",
    "Our values for testing are: [4, 9, 0, 8, 9, 8]"
   ]
  },
  {
   "cell_type": "code",
   "execution_count": 10,
   "id": "c8dd3284",
   "metadata": {},
   "outputs": [
    {
     "data": {
      "image/png": "[encoded data removed]",
      "text/plain": [
       "<Figure size 432x288 with 6 Axes>"
      ]
     },
     "metadata": {
      "needs_background": "light"
     },
     "output_type": "display_data"
    }
   ],
   "source": [
    "plt.subplot(321)\n",
    "plt.imshow(digits.images[1791], cmap=plt.cm.gray_r,\n",
    "interpolation='nearest')\n",
    "plt.subplot(322)\n",
    "plt.imshow(digits.images[1792], cmap=plt.cm.gray_r,\n",
    "interpolation='nearest')\n",
    "plt.subplot(323)\n",
    "plt.imshow(digits.images[1793], cmap=plt.cm.gray_r,\n",
    "interpolation='nearest')\n",
    "plt.subplot(324)\n",
    "plt.imshow(digits.images[1794], cmap=plt.cm.gray_r,\n",
    "interpolation='nearest')\n",
    "plt.subplot(325)\n",
    "plt.imshow(digits.images[1795], cmap=plt.cm.gray_r,\n",
    "interpolation='nearest')\n",
    "plt.subplot(326)\n",
    "plt.imshow(digits.images[1796], cmap=plt.cm.gray_r,\n",
    "interpolation='nearest')\n",
    "plt.show()"
   ]
  },
  {
   "cell_type": "markdown",
   "id": "16d2fba4",
   "metadata": {},
   "source": [
    "## Now we are training our data on initial model"
   ]
  },
  {
   "cell_type": "code",
   "execution_count": 11,
   "id": "b554118f",
   "metadata": {},
   "outputs": [],
   "source": [
    "main_data=digits.data\n",
    "targets=digits.target"
   ]
  },
  {
   "cell_type": "markdown",
   "id": "9388bbf3",
   "metadata": {},
   "source": [
    "# Case 1: 1791 Training set, and 6 Test values"
   ]
  },
  {
   "cell_type": "markdown",
   "id": "9602fa04",
   "metadata": {},
   "source": [
    "## Importing Support Vector Machine (SVM) from scikit-learn"
   ]
  },
  {
   "cell_type": "code",
   "execution_count": 12,
   "id": "05bd7e73",
   "metadata": {},
   "outputs": [],
   "source": [
    "from sklearn import svm \n",
    "from sklearn.metrics import accuracy_score\n",
    "svc = svm.SVC(gamma=0.00001,C=100.)"
   ]
  },
  {
   "cell_type": "code",
   "execution_count": 13,
   "id": "39ed6f88",
   "metadata": {},
   "outputs": [],
   "source": [
    "svc.fit(digits.data[0:1791],digits.target[0:1791])\n",
    "prediction = svc.predict(main_data[1791:])"
   ]
  },
  {
   "cell_type": "markdown",
   "id": "d7614252",
   "metadata": {},
   "source": [
    "As we can see, all 6 values from above were predicted correctly"
   ]
  },
  {
   "cell_type": "code",
   "execution_count": 14,
   "id": "00177c62",
   "metadata": {},
   "outputs": [
    {
     "name": "stdout",
     "output_type": "stream",
     "text": [
      "Predicted values:  [4 9 0 8 9 8]\n",
      "Actual values:  [4 9 0 8 9 8]\n",
      "Accuracy is:  100.0 %\n"
     ]
    }
   ],
   "source": [
    "print(\"Predicted values: \", prediction)\n",
    "print(\"Actual values: \", targets[1791:])\n",
    "accuracy_svc = accuracy_score(targets[1791:] , prediction)*100\n",
    "print(\"Accuracy is: \",accuracy_svc,\"%\")"
   ]
  },
  {
   "cell_type": "markdown",
   "id": "e2ef7668",
   "metadata": {},
   "source": [
    "### Our accuracy for 1791:6 division is 100%"
   ]
  },
  {
   "cell_type": "markdown",
   "id": "25db56e2",
   "metadata": {},
   "source": [
    "# Modified training of data"
   ]
  },
  {
   "cell_type": "code",
   "execution_count": 15,
   "id": "be17beca",
   "metadata": {},
   "outputs": [],
   "source": [
    "from sklearn.svm import SVC\n",
    "svc = SVC()\n",
    "SVC(C=100., cache_size=200,class_weight=None, coef0=0.0,degree=3,\n",
    "   gamma=0.001, kernel='rbf',max_iter=-1,probability=False,\n",
    "   random_state=None, shrinking=True, tol=0.001, verbose=False)\n",
    "svc_m = svm.SVC(gamma=0.001 , C=100.)\n",
    "modified_svc=svc_m.fit(main_data[0:1791], targets[0:1791])"
   ]
  },
  {
   "cell_type": "code",
   "execution_count": 16,
   "id": "007f606d",
   "metadata": {},
   "outputs": [],
   "source": [
    "pred_modified=modified_svc.predict(main_data[1791:])"
   ]
  },
  {
   "cell_type": "code",
   "execution_count": 17,
   "id": "012ede8f",
   "metadata": {},
   "outputs": [
    {
     "name": "stdout",
     "output_type": "stream",
     "text": [
      "Predicted values:  [4 9 0 8 9 8]\n",
      "Actual values:  [4 9 0 8 9 8]\n",
      "Accuracy is:  100.0 %\n"
     ]
    }
   ],
   "source": [
    "print(\"Predicted values: \", pred_modified)\n",
    "print(\"Actual values: \", targets[1791:])\n",
    "print(\"Accuracy is: \",(accuracy_score(targets[1791:] , prediction)*100),\"%\")"
   ]
  },
  {
   "cell_type": "markdown",
   "id": "6e5f2f2e",
   "metadata": {},
   "source": [
    "### Our accuracy for modified training is also 100%"
   ]
  },
  {
   "cell_type": "markdown",
   "id": "9757ea5c",
   "metadata": {},
   "source": [
    "# Case 2: 80% values for training (1438), and 20% values for testing (359)"
   ]
  },
  {
   "cell_type": "code",
   "execution_count": 18,
   "id": "1c60747e",
   "metadata": {},
   "outputs": [
    {
     "name": "stdout",
     "output_type": "stream",
     "text": [
      "Accuracy is:  94.15041782729804 %\n"
     ]
    }
   ],
   "source": [
    "svc.fit(main_data[0:1438], targets[0:1438])\n",
    "prediction_case_2 = svc.predict(main_data[1438:])\n",
    "acc_case_2 = accuracy_score(targets[1438:] , prediction_case_2)*100\n",
    "print(\"Accuracy is: \", acc_case_2,\"%\")"
   ]
  },
  {
   "cell_type": "markdown",
   "id": "d9c3619e",
   "metadata": {},
   "source": [
    "### The accuracy for 80:20 division is 94.15 %"
   ]
  },
  {
   "cell_type": "markdown",
   "id": "8ce8d210",
   "metadata": {},
   "source": [
    "# Case 3: 75% values for training (1348), and 25% values for testing (449)"
   ]
  },
  {
   "cell_type": "markdown",
   "id": "6f197b2f",
   "metadata": {},
   "source": [
    "## Training of data"
   ]
  },
  {
   "cell_type": "code",
   "execution_count": 19,
   "id": "6472e4ab",
   "metadata": {},
   "outputs": [
    {
     "name": "stdout",
     "output_type": "stream",
     "text": [
      "Accuracy is:  94.88888888888889 %\n"
     ]
    }
   ],
   "source": [
    "svc.fit(main_data[0:1347], targets[0:1347])\n",
    "prediction_case_3 = svc.predict(main_data[1347:])\n",
    "acc_case_3 = accuracy_score(targets[1347:] , prediction_case_3)*100\n",
    "print(\"Accuracy is: \", acc_case_3,\"%\")"
   ]
  },
  {
   "cell_type": "markdown",
   "id": "b130f335",
   "metadata": {},
   "source": [
    "### The accuracy for 75:25 division is 94.88 %"
   ]
  },
  {
   "cell_type": "markdown",
   "id": "ec768515",
   "metadata": {},
   "source": [
    "# Case 4: 70% values for training(1258) and 30% values for testing (539)"
   ]
  },
  {
   "cell_type": "code",
   "execution_count": 20,
   "id": "5c323e41",
   "metadata": {},
   "outputs": [
    {
     "name": "stdout",
     "output_type": "stream",
     "text": [
      "Accuracy is:  95.36178107606679 %\n"
     ]
    }
   ],
   "source": [
    "svc.fit(main_data[0:1258], targets[0:1258])\n",
    "prediction_case_4 = svc.predict(main_data[1258:])\n",
    "acc_case_4 = accuracy_score(targets[1258:] , prediction_case_4)*100\n",
    "print(\"Accuracy is: \", acc_case_4,\"%\")"
   ]
  },
  {
   "cell_type": "markdown",
   "id": "5a03dbe2",
   "metadata": {},
   "source": [
    "### The accuracy for 70:30 division is 95.36 %"
   ]
  },
  {
   "cell_type": "markdown",
   "id": "7982e506",
   "metadata": {},
   "source": [
    "# Case 5: 65% values for training(1168) and 35% values for testing (629)"
   ]
  },
  {
   "cell_type": "code",
   "execution_count": 21,
   "id": "5f1d1e98",
   "metadata": {},
   "outputs": [
    {
     "name": "stdout",
     "output_type": "stream",
     "text": [
      "Accuracy is:  95.23052464228935 %\n"
     ]
    }
   ],
   "source": [
    "svc.fit(main_data[0:1168], targets[0:1168 ])\n",
    "prediction_case_5 = svc.predict(main_data[1168:])\n",
    "acc_case_5 = accuracy_score(targets[1168:] , prediction_case_5)*100\n",
    "print(\"Accuracy is: \", acc_case_5,\"%\")"
   ]
  },
  {
   "cell_type": "markdown",
   "id": "187f264f",
   "metadata": {},
   "source": [
    "### The accuracy for 65:35 division is 95.23 %"
   ]
  },
  {
   "cell_type": "code",
   "execution_count": 22,
   "id": "7e16af1d",
   "metadata": {},
   "outputs": [
    {
     "data": {
      "image/png": "[encoded data removed]",
      "text/plain": [
       "<Figure size 500x500 with 1 Axes>"
      ]
     },
     "metadata": {
      "needs_background": "light"
     },
     "output_type": "display_data"
    }
   ],
   "source": [
    "from matplotlib.pyplot import figure\n",
    "\n",
    "figure(figsize=(5, 5), dpi=100)\n",
    "\n",
    "ac_list = {\"0.33%-99.66%\":accuracy_svc,\"80%-20%\":acc_case_2,\"75%-25%\":acc_case_3,\n",
    "           \"70%-30%\":acc_case_4,\"65%-35%\":acc_case_5}\n",
    "names = list(ac_list.keys())\n",
    "values = list(ac_list.values())\n",
    "plt.bar(range(len(ac_list)), values, tick_label=names)\n",
    "plt.xticks(rotation = 45)\n",
    "plt.xlabel(\"Division of Data\")\n",
    "plt.ylabel(\"Accuracy in %\")\n",
    "plt.show()"
   ]
  },
  {
   "cell_type": "markdown",
   "id": "be13c7a4",
   "metadata": {},
   "source": [
    "# Case 6: Extrenal data source :mnist data"
   ]
  },
  {
   "cell_type": "code",
   "execution_count": 23,
   "id": "79aa34a4",
   "metadata": {},
   "outputs": [],
   "source": [
    "import pandas as pd\n",
    "import numpy as np\n",
    "import matplotlib.pyplot as plt\n",
    "import seaborn as sns"
   ]
  },
  {
   "cell_type": "code",
   "execution_count": 24,
   "id": "580f0fe1",
   "metadata": {},
   "outputs": [],
   "source": [
    "mnist=pd.read_csv(\"D:\\data set\\MNIST_Train (2).csv\")"
   ]
  },
  {
   "cell_type": "code",
   "execution_count": 25,
   "id": "d4907901",
   "metadata": {},
   "outputs": [
    {
     "data": {
      "text/plain": [
       "(42000, 785)"
      ]
     },
     "execution_count": 25,
     "metadata": {},
     "output_type": "execute_result"
    }
   ],
   "source": [
    "mnist.shape"
   ]
  },
  {
   "cell_type": "code",
   "execution_count": 26,
   "id": "d522708a",
   "metadata": {},
   "outputs": [
    {
     "data": {
      "text/html": [
       "<div>\n",
       "<style scoped>\n",
       "    .dataframe tbody tr th:only-of-type {\n",
       "        vertical-align: middle;\n",
       "    }\n",
       "\n",
       "    .dataframe tbody tr th {\n",
       "        vertical-align: top;\n",
       "    }\n",
       "\n",
       "    .dataframe thead th {\n",
       "        text-align: right;\n",
       "    }\n",
       "</style>\n",
       "<table border=\"1\" class=\"dataframe\">\n",
       "  <thead>\n",
       "    <tr style=\"text-align: right;\">\n",
       "      <th></th>\n",
       "      <th>label</th>\n",
       "      <th>pixel0</th>\n",
       "      <th>pixel1</th>\n",
       "      <th>pixel2</th>\n",
       "      <th>pixel3</th>\n",
       "      <th>pixel4</th>\n",
       "      <th>pixel5</th>\n",
       "      <th>pixel6</th>\n",
       "      <th>pixel7</th>\n",
       "      <th>pixel8</th>\n",
       "      <th>...</th>\n",
       "      <th>pixel774</th>\n",
       "      <th>pixel775</th>\n",
       "      <th>pixel776</th>\n",
       "      <th>pixel777</th>\n",
       "      <th>pixel778</th>\n",
       "      <th>pixel779</th>\n",
       "      <th>pixel780</th>\n",
       "      <th>pixel781</th>\n",
       "      <th>pixel782</th>\n",
       "      <th>pixel783</th>\n",
       "    </tr>\n",
       "  </thead>\n",
       "  <tbody>\n",
       "    <tr>\n",
       "      <th>0</th>\n",
       "      <td>1</td>\n",
       "      <td>0</td>\n",
       "      <td>0</td>\n",
       "      <td>0</td>\n",
       "      <td>0</td>\n",
       "      <td>0</td>\n",
       "      <td>0</td>\n",
       "      <td>0</td>\n",
       "      <td>0</td>\n",
       "      <td>0</td>\n",
       "      <td>...</td>\n",
       "      <td>0</td>\n",
       "      <td>0</td>\n",
       "      <td>0</td>\n",
       "      <td>0</td>\n",
       "      <td>0</td>\n",
       "      <td>0</td>\n",
       "      <td>0</td>\n",
       "      <td>0</td>\n",
       "      <td>0</td>\n",
       "      <td>0</td>\n",
       "    </tr>\n",
       "    <tr>\n",
       "      <th>1</th>\n",
       "      <td>0</td>\n",
       "      <td>0</td>\n",
       "      <td>0</td>\n",
       "      <td>0</td>\n",
       "      <td>0</td>\n",
       "      <td>0</td>\n",
       "      <td>0</td>\n",
       "      <td>0</td>\n",
       "      <td>0</td>\n",
       "      <td>0</td>\n",
       "      <td>...</td>\n",
       "      <td>0</td>\n",
       "      <td>0</td>\n",
       "      <td>0</td>\n",
       "      <td>0</td>\n",
       "      <td>0</td>\n",
       "      <td>0</td>\n",
       "      <td>0</td>\n",
       "      <td>0</td>\n",
       "      <td>0</td>\n",
       "      <td>0</td>\n",
       "    </tr>\n",
       "    <tr>\n",
       "      <th>2</th>\n",
       "      <td>1</td>\n",
       "      <td>0</td>\n",
       "      <td>0</td>\n",
       "      <td>0</td>\n",
       "      <td>0</td>\n",
       "      <td>0</td>\n",
       "      <td>0</td>\n",
       "      <td>0</td>\n",
       "      <td>0</td>\n",
       "      <td>0</td>\n",
       "      <td>...</td>\n",
       "      <td>0</td>\n",
       "      <td>0</td>\n",
       "      <td>0</td>\n",
       "      <td>0</td>\n",
       "      <td>0</td>\n",
       "      <td>0</td>\n",
       "      <td>0</td>\n",
       "      <td>0</td>\n",
       "      <td>0</td>\n",
       "      <td>0</td>\n",
       "    </tr>\n",
       "    <tr>\n",
       "      <th>3</th>\n",
       "      <td>4</td>\n",
       "      <td>0</td>\n",
       "      <td>0</td>\n",
       "      <td>0</td>\n",
       "      <td>0</td>\n",
       "      <td>0</td>\n",
       "      <td>0</td>\n",
       "      <td>0</td>\n",
       "      <td>0</td>\n",
       "      <td>0</td>\n",
       "      <td>...</td>\n",
       "      <td>0</td>\n",
       "      <td>0</td>\n",
       "      <td>0</td>\n",
       "      <td>0</td>\n",
       "      <td>0</td>\n",
       "      <td>0</td>\n",
       "      <td>0</td>\n",
       "      <td>0</td>\n",
       "      <td>0</td>\n",
       "      <td>0</td>\n",
       "    </tr>\n",
       "    <tr>\n",
       "      <th>4</th>\n",
       "      <td>0</td>\n",
       "      <td>0</td>\n",
       "      <td>0</td>\n",
       "      <td>0</td>\n",
       "      <td>0</td>\n",
       "      <td>0</td>\n",
       "      <td>0</td>\n",
       "      <td>0</td>\n",
       "      <td>0</td>\n",
       "      <td>0</td>\n",
       "      <td>...</td>\n",
       "      <td>0</td>\n",
       "      <td>0</td>\n",
       "      <td>0</td>\n",
       "      <td>0</td>\n",
       "      <td>0</td>\n",
       "      <td>0</td>\n",
       "      <td>0</td>\n",
       "      <td>0</td>\n",
       "      <td>0</td>\n",
       "      <td>0</td>\n",
       "    </tr>\n",
       "  </tbody>\n",
       "</table>\n",
       "<p>5 rows × 785 columns</p>\n",
       "</div>"
      ],
      "text/plain": [
       "   label  pixel0  pixel1  pixel2  pixel3  pixel4  pixel5  pixel6  pixel7  \\\n",
       "0      1       0       0       0       0       0       0       0       0   \n",
       "1      0       0       0       0       0       0       0       0       0   \n",
       "2      1       0       0       0       0       0       0       0       0   \n",
       "3      4       0       0       0       0       0       0       0       0   \n",
       "4      0       0       0       0       0       0       0       0       0   \n",
       "\n",
       "   pixel8  ...  pixel774  pixel775  pixel776  pixel777  pixel778  pixel779  \\\n",
       "0       0  ...         0         0         0         0         0         0   \n",
       "1       0  ...         0         0         0         0         0         0   \n",
       "2       0  ...         0         0         0         0         0         0   \n",
       "3       0  ...         0         0         0         0         0         0   \n",
       "4       0  ...         0         0         0         0         0         0   \n",
       "\n",
       "   pixel780  pixel781  pixel782  pixel783  \n",
       "0         0         0         0         0  \n",
       "1         0         0         0         0  \n",
       "2         0         0         0         0  \n",
       "3         0         0         0         0  \n",
       "4         0         0         0         0  \n",
       "\n",
       "[5 rows x 785 columns]"
      ]
     },
     "execution_count": 26,
     "metadata": {},
     "output_type": "execute_result"
    }
   ],
   "source": [
    "mnist.head()"
   ]
  },
  {
   "cell_type": "code",
   "execution_count": 27,
   "id": "a3131616",
   "metadata": {},
   "outputs": [
    {
     "data": {
      "image/png": "[encoded data removed]",
      "text/plain": [
       "<Figure size 432x288 with 50 Axes>"
      ]
     },
     "metadata": {
      "needs_background": "light"
     },
     "output_type": "display_data"
    }
   ],
   "source": [
    "mnist1=mnist.iloc[:,1:]\n",
    "mnist1=np.array(mnist1)\n",
    "for i in range(50):\n",
    "    plt.subplot(5,10,i+1)\n",
    "    plt.imshow(mnist1[i,:].reshape(28,28))\n",
    "    plt.axis('off')"
   ]
  },
  {
   "cell_type": "code",
   "execution_count": 33,
   "id": "9bd8bae9",
   "metadata": {},
   "outputs": [],
   "source": [
    "mnist_x=mnist.iloc[:,1:]\n",
    "mnist_y=mnist.iloc[:,0]"
   ]
  },
  {
   "cell_type": "code",
   "execution_count": 34,
   "id": "56b7a163",
   "metadata": {},
   "outputs": [],
   "source": [
    "mnist_x=np.array(mnist_x)\n",
    "mnist_y=np.array(mnist_y)"
   ]
  },
  {
   "cell_type": "code",
   "execution_count": 36,
   "id": "9fa2b18b",
   "metadata": {},
   "outputs": [
    {
     "data": {
      "text/plain": [
       "1"
      ]
     },
     "execution_count": 36,
     "metadata": {},
     "output_type": "execute_result"
    }
   ],
   "source": [
    "mnist_y[0]"
   ]
  },
  {
   "cell_type": "code",
   "execution_count": 37,
   "id": "f8239669",
   "metadata": {},
   "outputs": [
    {
     "data": {
      "text/plain": [
       "SVC()"
      ]
     },
     "execution_count": 37,
     "metadata": {},
     "output_type": "execute_result"
    }
   ],
   "source": [
    "svc.fit(mnist_x, mnist_y)"
   ]
  },
  {
   "cell_type": "code",
   "execution_count": 38,
   "id": "77fd7b97",
   "metadata": {},
   "outputs": [
    {
     "name": "stdout",
     "output_type": "stream",
     "text": [
      "Accuracy is:  98.91428571428571 %\n"
     ]
    }
   ],
   "source": [
    "prediction_case_6 = svc.predict(mnist_x)\n",
    "acc_case_6 = accuracy_score(mnist_y , prediction_case_6)*100\n",
    "print(\"Accuracy is: \", acc_case_6,\"%\")"
   ]
  },
  {
   "cell_type": "code",
   "execution_count": null,
   "id": "9fa93db4",
   "metadata": {},
   "outputs": [],
   "source": []
  }
 ],
 "metadata": {
  "kernelspec": {
   "display_name": "Python 3",
   "language": "python",
   "name": "python3"
  },
  "language_info": {
   "codemirror_mode": {
    "name": "ipython",
    "version": 3
   },
   "file_extension": ".py",
   "mimetype": "text/x-python",
   "name": "python",
   "nbconvert_exporter": "python",
   "pygments_lexer": "ipython3",
   "version": "3.8.8"
  }
 },
 "nbformat": 4,
 "nbformat_minor": 5
}
